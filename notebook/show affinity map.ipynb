{
 "cells": [
  {
   "cell_type": "code",
   "execution_count": 6,
   "metadata": {
    "collapsed": true
   },
   "outputs": [],
   "source": [
    "using HDF5\n",
    "aff = h5read(\"/usr/people/jingpeng/seungmount/research/Jingpeng/17_pinky40/affinitymap/72705-73728_54273-55296_16385-16512_1-3.h5\", \"img\");"
   ]
  },
  {
   "cell_type": "code",
   "execution_count": 11,
   "metadata": {
    "collapsed": false
   },
   "outputs": [
    {
     "data": {
      "text/plain": [
       "(ImageCanvas,ImageSlice2d: zoom = Graphics.BoundingBox(0.0,1024.0,0.0,1024.0), z = 1)"
      ]
     },
     "execution_count": 11,
     "metadata": {},
     "output_type": "execute_result"
    }
   ],
   "source": [
    "using Colors\n",
    "using ImageView\n",
    "using Images\n",
    "img = Image(Gray.(aff[:,:,:,3]), spatialorder=[\"x\",\"y\",\"z\"])\n",
    "ImageView.view(img)"
   ]
  },
  {
   "cell_type": "code",
   "execution_count": null,
   "metadata": {
    "collapsed": true
   },
   "outputs": [],
   "source": []
  }
 ],
 "metadata": {
  "kernelspec": {
   "display_name": "Julia 0.5.0",
   "language": "julia",
   "name": "julia-0.5"
  },
  "language_info": {
   "file_extension": ".jl",
   "mimetype": "application/julia",
   "name": "julia",
   "version": "0.5.0"
  }
 },
 "nbformat": 4,
 "nbformat_minor": 0
}
