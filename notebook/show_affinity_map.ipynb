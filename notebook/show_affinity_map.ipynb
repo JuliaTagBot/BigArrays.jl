{
 "cells": [
  {
   "cell_type": "code",
   "execution_count": 19,
   "metadata": {
    "collapsed": false
   },
   "outputs": [
    {
     "name": "stdout",
     "output_type": "stream",
     "text": [
      "configDict = Dict{Symbol,Any}(Pair{Symbol,Any}(:globalOffset,Any[0,0,0,0]),Pair{Symbol,Any}(:chunkSize,Any[256,256,32,3]),Pair{Symbol,Any}(:compression,\"deflate\"),Pair{Symbol,Any}(:h5FilePrefix,\"block_\"),Pair{Symbol,Any}(:blockSize,Any[1024,1024,128,3]))\n"
     ]
    }
   ],
   "source": [
    "using BigArrays\n",
    "using BigArrays.H5sBigArrays\n",
    "\n",
    "ba = H5sBigArray(\"/usr/people/jingpeng/seungmount/research/Jingpeng/14_zfish/affinitymap\");\n",
    "# ba = H5sBigArray(\"/usr/people/jingpeng/seungmount/research/Jingpeng/17_pinky40/affinitymap/\") ;"
   ]
  },
  {
   "cell_type": "code",
   "execution_count": 22,
   "metadata": {
    "collapsed": false
   },
   "outputs": [
    {
     "name": "stdout",
     "output_type": "stream",
     "text": [
      "H5SBIGARRAY_DIRECTORY = \"/usr/people/jingpeng/seungmount/research/Jingpeng/14_zfish/affinitymap\"\n",
      "H5SBIGARRAY_DIRECTORY = \"/usr/people/jingpeng/seungmount/research/Jingpeng/14_zfish/affinitymap\"\n",
      "boundingbox(ba) = CartesianRange{CartesianIndex{4}}(CartesianIndex{4}((14337,11265,16385,1)),CartesianIndex{4}((84992,47104,17664,3)))\n",
      "sz = (70656,35840,1280,3)\n",
      "sz = (70656,35840,1280,3)\n",
      "globalRange = CartesianRange{CartesianIndex{4}}(CartesianIndex{4}((55873,28097,16841,1)),CartesianIndex{4}((56320,28672,16896,1)))\n"
     ]
    },
    {
     "name": "stderr",
     "output_type": "stream",
     "text": [
      "\u001b[1m\u001b[34mINFO: read CartesianRange{CartesianIndex{4}}(CartesianIndex{4}((55873,28097,16841,1)),CartesianIndex{4}((56320,28672,16896,1))) from CartesianRange{CartesianIndex{4}}(CartesianIndex{4}((577,449,73,1)),CartesianIndex{4}((1024,1024,128,1))) of /usr/people/jingpeng/seungmount/research/Jingpeng/14_zfish/affinitymap/block_55297-56320_27649-28672_16769-16896_1-3.h5 to buffer CartesianRange{CartesianIndex{4}}(CartesianIndex{4}((1,1,1,1)),CartesianIndex{4}((448,576,56,1))) ...\n",
      "\u001b[0m"
     ]
    },
    {
     "name": "stdout",
     "output_type": "stream",
     "text": [
      "ur = (1:448,1:576,1:56,1:1)\n",
      "globalRange = CartesianRange{CartesianIndex{4}}(CartesianIndex{4}((56321,28097,16841,1)),CartesianIndex{4}((56897,28672,16896,1)))\n"
     ]
    },
    {
     "name": "stderr",
     "output_type": "stream",
     "text": [
      "\u001b[1m\u001b[34mINFO: read CartesianRange{CartesianIndex{4}}(CartesianIndex{4}((56321,28097,16841,1)),CartesianIndex{4}((56897,28672,16896,1))) from CartesianRange{CartesianIndex{4}}(CartesianIndex{4}((1,449,73,1)),CartesianIndex{4}((577,1024,128,1))) of /usr/people/jingpeng/seungmount/research/Jingpeng/14_zfish/affinitymap/block_56321-57344_27649-28672_16769-16896_1-3.h5 to buffer CartesianRange{CartesianIndex{4}}(CartesianIndex{4}((449,1,1,1)),CartesianIndex{4}((1025,576,56,1))) ...\n",
      "\u001b[0m"
     ]
    },
    {
     "name": "stdout",
     "output_type": "stream",
     "text": [
      "ur = (449:1025,1:576,1:56,1:1)\n",
      "globalRange = CartesianRange{CartesianIndex{4}}(CartesianIndex{4}((55873,28673,16841,1)),CartesianIndex{4}((56320,29121,16896,1)))\n"
     ]
    },
    {
     "name": "stderr",
     "output_type": "stream",
     "text": [
      "\u001b[1m\u001b[34mINFO: read CartesianRange{CartesianIndex{4}}(CartesianIndex{4}((55873,28673,16841,1)),CartesianIndex{4}((56320,29121,16896,1))) from CartesianRange{CartesianIndex{4}}(CartesianIndex{4}((577,1,73,1)),CartesianIndex{4}((1024,449,128,1))) of /usr/people/jingpeng/seungmount/research/Jingpeng/14_zfish/affinitymap/block_55297-56320_28673-29696_16769-16896_1-3.h5 to buffer CartesianRange{CartesianIndex{4}}(CartesianIndex{4}((1,577,1,1)),CartesianIndex{4}((448,1025,56,1))) ...\n",
      "\u001b[0m"
     ]
    },
    {
     "name": "stdout",
     "output_type": "stream",
     "text": [
      "ur = (1:448,577:1025,1:56,1:1)\n",
      "globalRange = CartesianRange{CartesianIndex{4}}(CartesianIndex{4}((56321,28673,16841,1)),CartesianIndex{4}((56897,29121,16896,1)))\n"
     ]
    },
    {
     "name": "stderr",
     "output_type": "stream",
     "text": [
      "\u001b[1m\u001b[34mINFO: read CartesianRange{CartesianIndex{4}}(CartesianIndex{4}((56321,28673,16841,1)),CartesianIndex{4}((56897,29121,16896,1))) from CartesianRange{CartesianIndex{4}}(CartesianIndex{4}((1,1,73,1)),CartesianIndex{4}((577,449,128,1))) of /usr/people/jingpeng/seungmount/research/Jingpeng/14_zfish/affinitymap/block_56321-57344_28673-29696_16769-16896_1-3.h5 to buffer CartesianRange{CartesianIndex{4}}(CartesianIndex{4}((449,577,1,1)),CartesianIndex{4}((1025,1025,56,1))) ...\n",
      "\u001b[0m"
     ]
    },
    {
     "name": "stdout",
     "output_type": "stream",
     "text": [
      "ur = (449:1025,577:1025,1:56,1:1)\n",
      "globalRange = CartesianRange{CartesianIndex{4}}(CartesianIndex{4}((55873,28097,16897,1)),CartesianIndex{4}((56320,28672,17024,1)))\n"
     ]
    },
    {
     "name": "stderr",
     "output_type": "stream",
     "text": [
      "\u001b[1m\u001b[34mINFO: read CartesianRange{CartesianIndex{4}}(CartesianIndex{4}((55873,28097,16897,1)),CartesianIndex{4}((56320,28672,17024,1))) from CartesianRange{CartesianIndex{4}}(CartesianIndex{4}((577,449,1,1)),CartesianIndex{4}((1024,1024,128,1))) of /usr/people/jingpeng/seungmount/research/Jingpeng/14_zfish/affinitymap/block_55297-56320_27649-28672_16897-17024_1-3.h5 to buffer CartesianRange{CartesianIndex{4}}(CartesianIndex{4}((1,1,57,1)),CartesianIndex{4}((448,576,184,1))) ...\n",
      "\u001b[0m"
     ]
    },
    {
     "name": "stdout",
     "output_type": "stream",
     "text": [
      "ur = (1:448,1:576,57:184,1:1)\n",
      "globalRange = CartesianRange{CartesianIndex{4}}(CartesianIndex{4}((56321,28097,16897,1)),CartesianIndex{4}((56897,28672,17024,1)))\n"
     ]
    },
    {
     "name": "stderr",
     "output_type": "stream",
     "text": [
      "\u001b[1m\u001b[34mINFO: read CartesianRange{CartesianIndex{4}}(CartesianIndex{4}((56321,28097,16897,1)),CartesianIndex{4}((56897,28672,17024,1))) from CartesianRange{CartesianIndex{4}}(CartesianIndex{4}((1,449,1,1)),CartesianIndex{4}((577,1024,128,1))) of /usr/people/jingpeng/seungmount/research/Jingpeng/14_zfish/affinitymap/block_56321-57344_27649-28672_16897-17024_1-3.h5 to buffer CartesianRange{CartesianIndex{4}}(CartesianIndex{4}((449,1,57,1)),CartesianIndex{4}((1025,576,184,1))) ...\n",
      "\u001b[0m"
     ]
    },
    {
     "name": "stdout",
     "output_type": "stream",
     "text": [
      "ur = (449:1025,1:576,57:184,1:1)\n",
      "globalRange = CartesianRange{CartesianIndex{4}}(CartesianIndex{4}((55873,28673,16897,1)),CartesianIndex{4}((56320,29121,17024,1)))\n"
     ]
    },
    {
     "name": "stderr",
     "output_type": "stream",
     "text": [
      "\u001b[1m\u001b[34mINFO: read CartesianRange{CartesianIndex{4}}(CartesianIndex{4}((55873,28673,16897,1)),CartesianIndex{4}((56320,29121,17024,1))) from CartesianRange{CartesianIndex{4}}(CartesianIndex{4}((577,1,1,1)),CartesianIndex{4}((1024,449,128,1))) of /usr/people/jingpeng/seungmount/research/Jingpeng/14_zfish/affinitymap/block_55297-56320_28673-29696_16897-17024_1-3.h5 to buffer CartesianRange{CartesianIndex{4}}(CartesianIndex{4}((1,577,57,1)),CartesianIndex{4}((448,1025,184,1))) ...\n",
      "\u001b[0m"
     ]
    },
    {
     "name": "stdout",
     "output_type": "stream",
     "text": [
      "ur = (1:448,577:1025,57:184,1:1)\n",
      "globalRange = CartesianRange{CartesianIndex{4}}(CartesianIndex{4}((56321,28673,16897,1)),CartesianIndex{4}((56897,29121,17024,1)))\n"
     ]
    },
    {
     "name": "stderr",
     "output_type": "stream",
     "text": [
      "\u001b[1m\u001b[34mINFO: read CartesianRange{CartesianIndex{4}}(CartesianIndex{4}((56321,28673,16897,1)),CartesianIndex{4}((56897,29121,17024,1))) from CartesianRange{CartesianIndex{4}}(CartesianIndex{4}((1,1,1,1)),CartesianIndex{4}((577,449,128,1))) of /usr/people/jingpeng/seungmount/research/Jingpeng/14_zfish/affinitymap/block_56321-57344_28673-29696_16897-17024_1-3.h5 to buffer CartesianRange{CartesianIndex{4}}(CartesianIndex{4}((449,577,57,1)),CartesianIndex{4}((1025,1025,184,1))) ...\n",
      "\u001b[0m"
     ]
    },
    {
     "name": "stdout",
     "output_type": "stream",
     "text": [
      "ur = (449:1025,577:1025,57:184,1:1)\n",
      "globalRange = CartesianRange{CartesianIndex{4}}(CartesianIndex{4}((55873,28097,17025,1)),CartesianIndex{4}((56320,28672,17097,1)))\n"
     ]
    },
    {
     "name": "stderr",
     "output_type": "stream",
     "text": [
      "\u001b[1m\u001b[34mINFO: read CartesianRange{CartesianIndex{4}}(CartesianIndex{4}((55873,28097,17025,1)),CartesianIndex{4}((56320,28672,17097,1))) from CartesianRange{CartesianIndex{4}}(CartesianIndex{4}((577,449,1,1)),CartesianIndex{4}((1024,1024,73,1))) of /usr/people/jingpeng/seungmount/research/Jingpeng/14_zfish/affinitymap/block_55297-56320_27649-28672_17025-17152_1-3.h5 to buffer CartesianRange{CartesianIndex{4}}(CartesianIndex{4}((1,1,185,1)),CartesianIndex{4}((448,576,257,1))) ...\n",
      "\u001b[0m"
     ]
    },
    {
     "name": "stdout",
     "output_type": "stream",
     "text": [
      "ur = (1:448,1:576,185:257,1:1)\n",
      "globalRange = CartesianRange{CartesianIndex{4}}(CartesianIndex{4}((56321,28097,17025,1)),CartesianIndex{4}((56897,28672,17097,1)))\n"
     ]
    },
    {
     "name": "stderr",
     "output_type": "stream",
     "text": [
      "\u001b[1m\u001b[34mINFO: read CartesianRange{CartesianIndex{4}}(CartesianIndex{4}((56321,28097,17025,1)),CartesianIndex{4}((56897,28672,17097,1))) from CartesianRange{CartesianIndex{4}}(CartesianIndex{4}((1,449,1,1)),CartesianIndex{4}((577,1024,73,1))) of /usr/people/jingpeng/seungmount/research/Jingpeng/14_zfish/affinitymap/block_56321-57344_27649-28672_17025-17152_1-3.h5 to buffer CartesianRange{CartesianIndex{4}}(CartesianIndex{4}((449,1,185,1)),CartesianIndex{4}((1025,576,257,1))) ...\n",
      "\u001b[0m"
     ]
    },
    {
     "name": "stdout",
     "output_type": "stream",
     "text": [
      "ur = (449:1025,1:576,185:257,1:1)\n",
      "globalRange = CartesianRange{CartesianIndex{4}}(CartesianIndex{4}((55873,28673,17025,1)),CartesianIndex{4}((56320,29121,17097,1)))\n"
     ]
    },
    {
     "name": "stderr",
     "output_type": "stream",
     "text": [
      "\u001b[1m\u001b[34mINFO: read CartesianRange{CartesianIndex{4}}(CartesianIndex{4}((55873,28673,17025,1)),CartesianIndex{4}((56320,29121,17097,1))) from CartesianRange{CartesianIndex{4}}(CartesianIndex{4}((577,1,1,1)),CartesianIndex{4}((1024,449,73,1))) of /usr/people/jingpeng/seungmount/research/Jingpeng/14_zfish/affinitymap/block_55297-56320_28673-29696_17025-17152_1-3.h5 to buffer CartesianRange{CartesianIndex{4}}(CartesianIndex{4}((1,577,185,1)),CartesianIndex{4}((448,1025,257,1))) ...\n",
      "\u001b[0m"
     ]
    },
    {
     "name": "stdout",
     "output_type": "stream",
     "text": [
      "ur = (1:448,577:1025,185:257,1:1)\n",
      "globalRange = CartesianRange{CartesianIndex{4}}(CartesianIndex{4}((56321,28673,17025,1)),CartesianIndex{4}((56897,29121,17097,1)))\n"
     ]
    },
    {
     "name": "stderr",
     "output_type": "stream",
     "text": [
      "\u001b[1m\u001b[34mINFO: read CartesianRange{CartesianIndex{4}}(CartesianIndex{4}((56321,28673,17025,1)),CartesianIndex{4}((56897,29121,17097,1))) from CartesianRange{CartesianIndex{4}}(CartesianIndex{4}((1,1,1,1)),CartesianIndex{4}((577,449,73,1))) of /usr/people/jingpeng/seungmount/research/Jingpeng/14_zfish/affinitymap/block_56321-57344_28673-29696_17025-17152_1-3.h5 to buffer CartesianRange{CartesianIndex{4}}(CartesianIndex{4}((449,577,185,1)),CartesianIndex{4}((1025,1025,257,1))) ...\n",
      "\u001b[0m"
     ]
    },
    {
     "name": "stdout",
     "output_type": "stream",
     "text": [
      "ur = (449:1025,577:1025,185:257,1:1)\n"
     ]
    },
    {
     "data": {
      "text/plain": [
       "1025×1025×257×1 Array{Float32,4}:\n",
       "[:, :, 1, 1] =\n",
       " 1.0        1.0         1.0         …  0.0143479   0.00961912  0.00929712\n",
       " 1.0        1.0         1.0            0.00680115  0.00578644  0.00629848\n",
       " 1.0        1.0         1.0            0.00820067  0.00757214  0.00910237\n",
       " 1.0        1.0         1.0            0.0259774   0.0291692   0.0379592 \n",
       " 1.0        1.0         1.0            0.0876341   0.0995423   0.121012  \n",
       " 1.0        1.0         1.0         …  0.280852    0.292613    0.337247  \n",
       " 1.0        1.0         1.0            0.561267    0.562927    0.602836  \n",
       " 1.0        1.0         1.0            0.92274     0.91833     0.929428  \n",
       " 1.0        1.0         1.0            0.972501    0.969844    0.973653  \n",
       " 1.0        1.0         1.0            0.995706    0.996091    0.996579  \n",
       " 1.0        1.0         1.0         …  0.995729    0.995997    0.996212  \n",
       " 1.0        1.0         1.0            0.997597    0.997819    0.998023  \n",
       " 1.0        1.0         1.0            0.998078    0.998128    0.998328  \n",
       " ⋮                                  ⋱                                    \n",
       " 0.516133   0.847373    0.954133       1.0         1.0         1.0       \n",
       " 0.300341   0.662388    0.887691       1.0         1.0         1.0       \n",
       " 0.186813   0.434058    0.719586    …  1.0         1.0         1.0       \n",
       " 0.1063     0.229531    0.462806       1.0         1.0         1.0       \n",
       " 0.0599398  0.114788    0.229669       1.0         1.0         0.999999  \n",
       " 0.0334124  0.0661613   0.130018       1.0         0.999999    0.999999  \n",
       " 0.0220827  0.0344593   0.0568305      0.999999    0.999997    0.999997  \n",
       " 0.0166473  0.0207744   0.0307867   …  0.999998    0.999995    0.999995  \n",
       " 0.0139032  0.00915392  0.0111349      0.99999     0.999988    0.999987  \n",
       " 0.013057   0.00608047  0.00695694     0.99998     0.999974    0.999976  \n",
       " 0.0345508  0.0108614   0.00956888     0.999879    0.999884    0.999901  \n",
       " 0.0732231  0.0217789   0.0155339      0.99967     0.999601    0.999603  \n",
       "\n",
       "[:, :, 2, 1] =\n",
       " 1.0        1.0        1.0        …  0.209169   0.146646   0.126159 \n",
       " 1.0        1.0        1.0           0.0937007  0.0687655  0.0598151\n",
       " 1.0        1.0        1.0           0.046789   0.0384118  0.0367539\n",
       " 1.0        1.0        1.0           0.0173872  0.0149923  0.0155742\n",
       " 1.0        1.0        1.0           0.0136582  0.0134524  0.0163583\n",
       " 1.0        1.0        1.0        …  0.0141113  0.0165795  0.0224406\n",
       " 1.0        1.0        1.0           0.0160285  0.0199761  0.0265912\n",
       " 1.0        1.0        1.0           0.0399804  0.0448505  0.0571133\n",
       " 1.0        1.0        1.0           0.0815806  0.0822546  0.0893179\n",
       " 1.0        1.0        1.0           0.227094   0.207842   0.192834 \n",
       " 1.0        1.0        1.0        …  0.53547    0.488556   0.425959 \n",
       " 1.0        1.0        1.0           0.870289   0.853393   0.791316 \n",
       " 1.0        1.0        1.0           0.947493   0.934779   0.897713 \n",
       " ⋮                                ⋱                                 \n",
       " 0.265694   0.459547   0.637291      1.0        1.0        1.0      \n",
       " 0.114737   0.184875   0.278308      1.0        1.0        1.0      \n",
       " 0.0582595  0.0769061  0.0987991  …  1.0        1.0        1.0      \n",
       " 0.0295113  0.0338741  0.0412556     1.0        1.0        1.0      \n",
       " 0.015641   0.0147797  0.0165453     1.0        1.0        1.0      \n",
       " 0.0106004  0.0093536  0.0104812     1.0        1.0        1.0      \n",
       " 0.0205374  0.0147877  0.0151781     1.0        1.0        1.0      \n",
       " 0.0363205  0.0239025  0.0214004  …  1.0        1.0        1.0      \n",
       " 0.0803395  0.0522288  0.0416925     1.0        1.0        1.0      \n",
       " 0.124903   0.085868   0.0740786     1.0        1.0        1.0      \n",
       " 0.264133   0.235798   0.229947      1.0        1.0        1.0      \n",
       " 0.421969   0.415628   0.438698      1.0        1.0        1.0      \n",
       "\n",
       "[:, :, 3, 1] =\n",
       " 1.0         1.0         1.0         …  0.0372771   0.0314925   0.0273239 \n",
       " 1.0         1.0         1.0            0.00979171  0.0093001   0.00815058\n",
       " 1.0         1.0         1.0            0.0057878   0.00590957  0.00554052\n",
       " 1.0         1.0         1.0            0.00735197  0.00943422  0.00957623\n",
       " 1.0         1.0         1.0            0.0169153   0.0213847   0.021973  \n",
       " 1.0         1.0         1.0         …  0.0631118   0.0786622   0.0895153 \n",
       " 1.0         1.0         1.0            0.179288    0.230536    0.242762  \n",
       " 1.0         1.0         1.0            0.54754     0.648182    0.654488  \n",
       " 1.0         1.0         1.0            0.742036    0.809786    0.813892  \n",
       " 1.0         1.0         1.0            0.925747    0.938965    0.938957  \n",
       " 1.0         1.0         1.0         …  0.960221    0.96789     0.968106  \n",
       " 1.0         1.0         1.0            0.994389    0.995413    0.995736  \n",
       " 1.0         1.0         1.0            0.99686     0.997805    0.997645  \n",
       " ⋮                                   ⋱                                    \n",
       " 0.0165565   0.0193092   0.0248444      1.0         1.0         1.0       \n",
       " 0.00732845  0.0080869   0.010858       1.0         1.0         1.0       \n",
       " 0.00574762  0.00468894  0.00565186  …  1.0         1.0         1.0       \n",
       " 0.00494548  0.00360336  0.00361009     1.0         1.0         1.0       \n",
       " 0.0136781   0.00951215  0.0081262      1.0         1.0         1.0       \n",
       " 0.0288331   0.0205594   0.0177075      1.0         1.0         1.0       \n",
       " 0.0887563   0.0833021   0.0757318      1.0         1.0         1.0       \n",
       " 0.27495     0.267372    0.25752     …  1.0         1.0         1.0       \n",
       " 0.726772    0.69969     0.675559       1.0         1.0         1.0       \n",
       " 0.961467    0.961897    0.956202       1.0         1.0         1.0       \n",
       " 0.989981    0.99234     0.991225       1.0         1.0         1.0       \n",
       " 0.987635    0.992201    0.992252       1.0         1.0         1.0       \n",
       "\n",
       "...\n",
       "\n",
       "[:, :, 255, 1] =\n",
       " 0.999945    0.999809    0.999655   …  0.00121385  0.00209589  0.00568088\n",
       " 0.999844    0.999408    0.999002      0.00154819  0.00232978  0.0049287 \n",
       " 0.999931    0.999737    0.999557      0.00195613  0.0023249   0.00423179\n",
       " 0.999984    0.999929    0.99988       0.00304017  0.00349723  0.00538972\n",
       " 0.99999     0.999962    0.999942      0.00547234  0.00602851  0.0090568 \n",
       " 0.999994    0.999974    0.999965   …  0.013329    0.0139806   0.0175396 \n",
       " 0.999998    0.999989    0.999985      0.0193829   0.0187163   0.0218655 \n",
       " 1.0         0.999998    0.999995      0.0211926   0.0212963   0.0230417 \n",
       " 1.0         1.0         0.999999      0.024327    0.0246785   0.0237562 \n",
       " 1.0         1.0         1.0           0.0264399   0.024755    0.0233041 \n",
       " 1.0         1.0         1.0        …  0.0263406   0.0218283   0.0198965 \n",
       " 1.0         1.0         1.0           0.0338545   0.0270832   0.0214113 \n",
       " 1.0         1.0         1.0           0.0396951   0.0294831   0.0228511 \n",
       " ⋮                                  ⋱                                    \n",
       " 0.0128636   0.0188917   0.0249323     0.999837    0.999902    0.999923  \n",
       " 0.00722011  0.0108679   0.0139965     0.999845    0.999893    0.999906  \n",
       " 0.00490279  0.00737549  0.0101692  …  0.997627    0.998753    0.998929  \n",
       " 0.00600799  0.00934089  0.0125991     0.997559    0.998945    0.999151  \n",
       " 0.0112723   0.0151993   0.0192883     0.998388    0.999343    0.99954   \n",
       " 0.0168027   0.0200162   0.022598      0.998039    0.999156    0.999478  \n",
       " 0.0300343   0.0270896   0.0264611     0.995967    0.998528    0.998908  \n",
       " 0.0406525   0.0306497   0.0265628  …  0.996611    0.998915    0.9992    \n",
       " 0.0601815   0.0407464   0.0312699     0.996189    0.998803    0.999162  \n",
       " 0.0812562   0.0558393   0.0392858     0.993887    0.998008    0.998889  \n",
       " 0.130874    0.095213    0.0704987     0.976852    0.989844    0.994807  \n",
       " 0.208914    0.155402    0.124631      0.950283    0.975346    0.986146  \n",
       "\n",
       "[:, :, 256, 1] =\n",
       " 0.997687   0.98761    0.971697   …  0.00610097  0.00631938  0.00685503\n",
       " 0.997537   0.985722   0.976492      0.00364347  0.00420377  0.00513695\n",
       " 0.998712   0.992237   0.986987      0.00300484  0.00343458  0.00460139\n",
       " 0.99959    0.9966     0.99381       0.0032321   0.00251711  0.00271297\n",
       " 0.999753   0.997761   0.995915      0.00445087  0.00263417  0.0023731 \n",
       " 0.999867   0.998357   0.997103   …  0.0101186   0.00487936  0.00344533\n",
       " 0.999956   0.999465   0.999062      0.0215071   0.0097912   0.00550068\n",
       " 0.999996   0.999893   0.999755      0.0619732   0.030889    0.0155635 \n",
       " 0.999999   0.99997    0.999925      0.153157    0.0818333   0.0387594 \n",
       " 1.0        0.999994   0.999983      0.320932    0.182476    0.0813815 \n",
       " 1.0        0.999998   0.999994   …  0.556097    0.354879    0.17431   \n",
       " 1.0        1.0        1.0           0.76543     0.574189    0.298259  \n",
       " 1.0        1.0        1.0           0.889235    0.748094    0.473342  \n",
       " ⋮                                ⋱                                    \n",
       " 0.998293   0.998231   0.998716      0.983452    0.975329    0.969431  \n",
       " 0.997793   0.997974   0.998593      0.986356    0.979769    0.9745    \n",
       " 0.997959   0.997963   0.998375   …  0.985664    0.98222     0.975642  \n",
       " 0.997841   0.997826   0.998045      0.984662    0.982009    0.976962  \n",
       " 0.996772   0.997698   0.998021      0.98212     0.977578    0.975023  \n",
       " 0.99392    0.996308   0.996549      0.985469    0.984316    0.983569  \n",
       " 0.979777   0.989309   0.990438      0.982615    0.986715    0.985611  \n",
       " 0.951776   0.969825   0.973093   …  0.98468     0.989512    0.987545  \n",
       " 0.813803   0.848966   0.870992      0.986708    0.99146     0.990218  \n",
       " 0.43638    0.524129   0.596825      0.990035    0.992286    0.990863  \n",
       " 0.132027   0.177761   0.225386      0.993565    0.995901    0.994423  \n",
       " 0.0474695  0.0634849  0.0784321     0.995201    0.99702     0.99585   \n",
       "\n",
       "[:, :, 257, 1] =\n",
       " 0.999646  0.997701  0.997136  …  0.97849     0.967827    0.910845  \n",
       " 0.999472  0.997665  0.996907     0.971973    0.968696    0.93961   \n",
       " 0.999647  0.99842   0.997885     0.93575     0.953093    0.941389  \n",
       " 0.999722  0.999116  0.999055     0.809522    0.881263    0.904253  \n",
       " 0.999782  0.999319  0.999266     0.459824    0.63586     0.74183   \n",
       " 0.999672  0.998991  0.99912   …  0.184445    0.307409    0.462093  \n",
       " 0.99967   0.999022  0.99911      0.0822943   0.148442    0.256566  \n",
       " 0.99986   0.999424  0.999329     0.0376477   0.0886901   0.163758  \n",
       " 0.999912  0.999631  0.999561     0.0196336   0.0574301   0.115305  \n",
       " 0.999952  0.999775  0.999748     0.0116072   0.0401261   0.0924534 \n",
       " 0.999975  0.999901  0.999882  …  0.00667891  0.0207561   0.0453954 \n",
       " 0.999997  0.999979  0.999964     0.00382679  0.00870494  0.0150611 \n",
       " 0.999999  0.999992  0.999986     0.00333811  0.00504924  0.0061255 \n",
       " ⋮                             ⋱                                    \n",
       " 0.999928  0.999947  0.999957     0.0174166   0.00766319  0.00591448\n",
       " 0.999817  0.999849  0.999856     0.0222191   0.0108215   0.00827321\n",
       " 0.999019  0.998546  0.998309  …  0.0311145   0.0178105   0.0132383 \n",
       " 0.997942  0.996659  0.99632      0.046485    0.0262212   0.0190333 \n",
       " 0.993681  0.990794  0.990432     0.0803192   0.0382322   0.0264972 \n",
       " 0.994207  0.991972  0.991436     0.0949073   0.0468023   0.0307746 \n",
       " 0.991304  0.987274  0.9871       0.105073    0.055093    0.0379229 \n",
       " 0.989559  0.983759  0.985141  …  0.0983798   0.0521715   0.0382536 \n",
       " 0.986672  0.98006   0.98275      0.111601    0.0622837   0.0473792 \n",
       " 0.98052   0.976506  0.9783       0.101678    0.0546981   0.0403219 \n",
       " 0.965575  0.966644  0.973567     0.117063    0.0654586   0.0473942 \n",
       " 0.924133  0.92702   0.938266     0.126324    0.0661874   0.0454403 "
      ]
     },
     "execution_count": 22,
     "metadata": {},
     "output_type": "execute_result"
    }
   ],
   "source": [
    "# affx = ba[26571:26571+512,26571:26571+512,16385:16385+1000, 1]\n",
    "\n",
    "# containing missing data\n",
    "# affx = ba[56321:56321+2048, 28097:28097+2048, 16897:16897+256,1]\n",
    "# locate x,y and z\n",
    "# affx = ba[56321:56321+850, 29597:32845, 16897-5:16897+256,1]\n",
    "\n",
    "# affx = ba[55873+1024:55873+2048, 28097-512:28097+512, 16841-128:16841+128,1]\n",
    "# affx = ba[43127+16384-1024:43127+16384+1024, 18614+16384-1024:18614+16384+1024, 554+16384-64:554+16384+64,1]\n",
    "\n",
    "\n",
    "# affx = ba[55873+400:55873+1250, 28097-1536:28097+624, 16841+50:16841+316, 1]\n",
    "\n",
    "affx = ba[55873:55873+1024, 28097:28097+1024, 16841:16841+256,1]"
   ]
  },
  {
   "cell_type": "code",
   "execution_count": 24,
   "metadata": {
    "collapsed": false
   },
   "outputs": [
    {
     "data": {
      "text/plain": [
       "(ImageCanvas,ImageSlice2d: zoom = Graphics.BoundingBox(0.0,1025.0,0.0,1025.0), z = 1)"
      ]
     },
     "execution_count": 24,
     "metadata": {},
     "output_type": "execute_result"
    }
   ],
   "source": [
    "using Colors\n",
    "using ImageView\n",
    "using Images\n",
    "using AxisArrays\n",
    "img = AxisArray(affx[:,:,:,1], :x,:y,:z)\n",
    "# img = Image(Gray.(affx[:,:,:,1]), spatialorder=[\"x\",\"y\",\"z\"])\n",
    "ImageView.view(img)"
   ]
  },
  {
   "cell_type": "code",
   "execution_count": 14,
   "metadata": {
    "collapsed": false
   },
   "outputs": [
    {
     "name": "stderr",
     "output_type": "stream",
     "text": [
      "\u001b[1m\u001b[34mINFO: Recompiling stale cache file /usr/people/jingpeng/.julia/lib/v0.5/Reactive.ji for module Reactive.\n",
      "\u001b[0m"
     ]
    },
    {
     "data": {
      "text/html": [
       "<div id=\"interact-js-shim\">\n",
       "    <script charset=\"utf-8\">\n",
       "(function (IPython, $, _, MathJax) {\n",
       "    $.event.special.destroyed = {\n",
       "\tremove: function(o) {\n",
       "\t    if (o.handler) {\n",
       "\t\to.handler.apply(this, arguments)\n",
       "\t    }\n",
       "\t}\n",
       "    }\n",
       "\n",
       "    var OutputArea = IPython.version >= \"4.0.0\" ? require(\"notebook/js/outputarea\").OutputArea : IPython.OutputArea;\n",
       "\n",
       "    var redrawValue = function (container, type, val) {\n",
       "\tvar selector = $(\"<div/>\");\n",
       "\tvar oa = new OutputArea(_.extend(selector, {\n",
       "\t    selector: selector,\n",
       "\t    prompt_area: true,\n",
       "\t    events: IPython.events,\n",
       "\t    keyboard_manager: IPython.keyboard_manager\n",
       "\t})); // Hack to work with IPython 2.1.0\n",
       "\n",
       "\tswitch (type) {\n",
       "\tcase \"image/png\":\n",
       "            var _src = 'data:' + type + ';base64,' + val;\n",
       "\t    $(container).find(\"img\").attr('src', _src);\n",
       "\t    break;\n",
       "\tdefault:\n",
       "\t    var toinsert = OutputArea.append_map[type].apply(\n",
       "\t\toa, [val, {}, selector]\n",
       "\t    );\n",
       "\t    $(container).empty().append(toinsert.contents());\n",
       "\t    selector.remove();\n",
       "\t}\n",
       "\tif (type === \"text/latex\" && MathJax) {\n",
       "\t    MathJax.Hub.Queue([\"Typeset\", MathJax.Hub, toinsert.get(0)]);\n",
       "\t}\n",
       "    }\n",
       "\n",
       "\n",
       "    $(document).ready(function() {\n",
       "\tfunction initComm(evt, data) {\n",
       "\t    var comm_manager = data.kernel.comm_manager;\n",
       "        //_.extend(comm_manager.targets, require(\"widgets/js/widget\"))\n",
       "\t    comm_manager.register_target(\"Signal\", function (comm) {\n",
       "            comm.on_msg(function (msg) {\n",
       "                //Widgets.log(\"message received\", msg);\n",
       "                var val = msg.content.data.value;\n",
       "                $(\".signal-\" + comm.comm_id).each(function() {\n",
       "                var type = $(this).data(\"type\");\n",
       "                if (val[type]) {\n",
       "                    redrawValue(this, type, val[type], type);\n",
       "                }\n",
       "                });\n",
       "                delete val;\n",
       "                delete msg.content.data.value;\n",
       "            });\n",
       "\t    });\n",
       "\n",
       "\t    // coordingate with Comm and redraw Signals\n",
       "\t    // XXX: Test using Reactive here to improve performance\n",
       "\t    $([IPython.events]).on(\n",
       "\t\t'output_appended.OutputArea', function (event, type, value, md, toinsert) {\n",
       "\t\t    if (md && md.reactive) {\n",
       "                // console.log(md.comm_id);\n",
       "                toinsert.addClass(\"signal-\" + md.comm_id);\n",
       "                toinsert.data(\"type\", type);\n",
       "                // Signal back indicating the mimetype required\n",
       "                var comm_manager = IPython.notebook.kernel.comm_manager;\n",
       "                var comm = comm_manager.comms[md.comm_id];\n",
       "                comm.then(function (c) {\n",
       "                    c.send({action: \"subscribe_mime\",\n",
       "                       mime: type});\n",
       "                    toinsert.bind(\"destroyed\", function() {\n",
       "                        c.send({action: \"unsubscribe_mime\",\n",
       "                               mime: type});\n",
       "                    });\n",
       "                })\n",
       "\t\t    }\n",
       "\t    });\n",
       "\t}\n",
       "\n",
       "\ttry {\n",
       "\t    // try to initialize right away. otherwise, wait on the status_started event.\n",
       "\t    initComm(undefined, IPython.notebook);\n",
       "\t} catch (e) {\n",
       "\t    $([IPython.events]).on('kernel_created.Kernel kernel_created.Session', initComm);\n",
       "\t}\n",
       "    });\n",
       "})(IPython, jQuery, _, MathJax);\n",
       "</script>\n",
       "    <script>\n",
       "        window.interactLoadedFlag = true\n",
       "       $(\"#interact-js-shim\").bind(\"destroyed\", function () {\n",
       "           if (window.interactLoadedFlag) {\n",
       "               console.warn(\"JavaScript required by Interact will be removed if you remove this cell or run using Interact more than once.\")\n",
       "           }\n",
       "       })\n",
       "       $([IPython.events]).on(\"kernel_starting.Kernel kernel_restarting.Kernel\", function () { window.interactLoadedFlag = false })\n",
       "   </script>\n",
       "</div>"
      ]
     },
     "metadata": {},
     "output_type": "display_data"
    },
    {
     "data": {
      "text/html": [],
      "text/plain": [
       "Interact.Slider{Int64}(Signal{Int64}(131, nactions=0),\"z\",131,1:262,true)"
      ]
     },
     "metadata": {},
     "output_type": "display_data"
    },
    {
     "name": "stderr",
     "output_type": "stream",
     "text": [
      "WARNING: Base.writemime is deprecated.\n",
      "  likely near /usr/people/jingpeng/.julia/v0.5/Interact/src/IJulia/setup.jl:105\n",
      "WARNING: Base.writemime is deprecated.\n",
      "  likely near /usr/people/jingpeng/.julia/v0.5/Interact/src/IJulia/setup.jl:105\n",
      "WARNING: Base.writemime is deprecated.\n",
      "  likely near /usr/people/jingpeng/.julia/v0.5/Interact/src/IJulia/setup.jl:109\n",
      "WARNING: Base.writemime is deprecated.\n",
      "  likely near /usr/people/jingpeng/.julia/v0.5/Interact/src/IJulia/setup.jl:109\n",
      "WARNING: Base.writemime is deprecated.\n",
      "  likely near /usr/people/jingpeng/.julia/v0.5/Interact/src/IJulia/setup.jl:113\n",
      "WARNING: Base.writemime is deprecated.\n",
      "  likely near /usr/people/jingpeng/.julia/v0.5/Interact/src/IJulia/setup.jl:113\n",
      "WARNING: Base.writemime is deprecated.\n",
      "  likely near /usr/people/jingpeng/.julia/v0.5/Interact/src/IJulia/setup.jl:118\n",
      "WARNING: Base.writemime is deprecated.\n",
      "  likely near /usr/people/jingpeng/.julia/v0.5/Interact/src/IJulia/setup.jl:118\n",
      "WARNING: Base.writemime is deprecated.\n",
      "  likely near /usr/people/jingpeng/.julia/v0.5/Interact/src/IJulia/setup.jl:123\n",
      "WARNING: Base.writemime is deprecated.\n",
      "  likely near /usr/people/jingpeng/.julia/v0.5/Interact/src/IJulia/setup.jl:123\n",
      "WARNING: Base.ASCIIString is deprecated, use String instead.\n",
      "  likely near /usr/people/jingpeng/.julia/v0.5/IJulia/src/kernel.jl:31\n",
      "WARNING: Base.ASCIIString is deprecated, use String instead.\n",
      "  likely near /usr/people/jingpeng/.julia/v0.5/IJulia/src/kernel.jl:31\n",
      "WARNING: Base.ASCIIString is deprecated, use String instead.\n",
      "  likely near /usr/people/jingpeng/.julia/v0.5/IJulia/src/kernel.jl:31\n",
      "WARNING: Base.ByteString is deprecated, use String instead.\n",
      "  likely near /usr/people/jingpeng/.julia/v0.5/IJulia/src/kernel.jl:31\n",
      "WARNING: Base.ASCIIString is deprecated, use String instead.\n",
      "  likely near /usr/people/jingpeng/.julia/v0.5/IJulia/src/kernel.jl:31\n",
      "WARNING: Base.ByteString is deprecated, use String instead.\n",
      "  likely near /usr/people/jingpeng/.julia/v0.5/IJulia/src/kernel.jl:31\n",
      "WARNING: Base.writemime is deprecated.\n",
      "  likely near /usr/people/jingpeng/.julia/v0.5/IJulia/src/kernel.jl:31\n",
      "WARNING: Base.writemime is deprecated.\n",
      "  likely near /usr/people/jingpeng/.julia/v0.5/IJulia/src/kernel.jl:31\n",
      "WARNING: Base.writemime is deprecated.\n",
      "  likely near /usr/people/jingpeng/.julia/v0.5/IJulia/src/kernel.jl:31\n",
      "WARNING: Base.writemime is deprecated.\n",
      "  likely near /usr/people/jingpeng/.julia/v0.5/IJulia/src/kernel.jl:31\n",
      "WARNING: Base.writemime is deprecated.\n",
      "  likely near /usr/people/jingpeng/.julia/v0.5/IJulia/src/kernel.jl:31\n",
      "WARNING: Base.writemime is deprecated.\n",
      "  likely near /usr/people/jingpeng/.julia/v0.5/IJulia/src/kernel.jl:31\n",
      "WARNING: Base.writemime is deprecated.\n",
      "  likely near /usr/people/jingpeng/.julia/v0.5/IJulia/src/kernel.jl:31\n",
      "WARNING: Base.writemime is deprecated.\n",
      "  likely near /usr/people/jingpeng/.julia/v0.5/IJulia/src/kernel.jl:31\n",
      "WARNING: Base.writemime is deprecated.\n",
      "  likely near /usr/people/jingpeng/.julia/v0.5/IJulia/src/kernel.jl:31\n",
      "WARNING: Base.writemime is deprecated.\n",
      "  likely near /usr/people/jingpeng/.julia/v0.5/IJulia/src/kernel.jl:31\n",
      "WARNING: Base.writemime is deprecated.\n",
      "  likely near /usr/people/jingpeng/.julia/v0.5/IJulia/src/kernel.jl:31\n",
      "WARNING: Base.writemime is deprecated.\n",
      "  likely near /usr/people/jingpeng/.julia/v0.5/IJulia/src/kernel.jl:31\n",
      "WARNING: Base.writemime is deprecated.\n",
      "  likely near /usr/people/jingpeng/.julia/v0.5/IJulia/src/kernel.jl:31\n",
      "WARNING: Base.writemime is deprecated.\n",
      "  likely near /usr/people/jingpeng/.julia/v0.5/IJulia/src/kernel.jl:31\n",
      "WARNING: Base.writemime is deprecated.\n",
      "  likely near /usr/people/jingpeng/.julia/v0.5/IJulia/src/kernel.jl:31\n",
      "WARNING: Base.writemime is deprecated.\n",
      "  likely near /usr/people/jingpeng/.julia/v0.5/IJulia/src/kernel.jl:31\n",
      "WARNING: Base.writemime is deprecated.\n",
      "  likely near /usr/people/jingpeng/.julia/v0.5/IJulia/src/kernel.jl:31\n",
      "WARNING: Base.writemime is deprecated.\n",
      "  likely near /usr/people/jingpeng/.julia/v0.5/IJulia/src/kernel.jl:31\n",
      "WARNING: Base.writemime is deprecated.\n",
      "  likely near /usr/people/jingpeng/.julia/v0.5/IJulia/src/kernel.jl:31\n",
      "WARNING: Base.writemime is deprecated.\n",
      "  likely near /usr/people/jingpeng/.julia/v0.5/IJulia/src/kernel.jl:31\n",
      "WARNING: Base.writemime is deprecated.\n",
      "  likely near /usr/people/jingpeng/.julia/v0.5/IJulia/src/kernel.jl:31\n",
      "WARNING: Base.writemime is deprecated.\n",
      "  likely near /usr/people/jingpeng/.julia/v0.5/IJulia/src/kernel.jl:31\n",
      "WARNING: Base.writemime is deprecated.\n",
      "  likely near /usr/people/jingpeng/.julia/v0.5/IJulia/src/kernel.jl:31\n",
      "WARNING: Base.writemime is deprecated.\n",
      "  likely near /usr/people/jingpeng/.julia/v0.5/IJulia/src/kernel.jl:31\n",
      "WARNING: Base.writemime is deprecated.\n",
      "  likely near /usr/people/jingpeng/.julia/v0.5/IJulia/src/kernel.jl:31\n",
      "WARNING: Base.writemime is deprecated.\n",
      "  likely near /usr/people/jingpeng/.julia/v0.5/IJulia/src/kernel.jl:31\n",
      "WARNING: Base.writemime is deprecated.\n",
      "  likely near /usr/people/jingpeng/.julia/v0.5/IJulia/src/kernel.jl:31\n",
      "WARNING: Base.writemime is deprecated.\n",
      "  likely near /usr/people/jingpeng/.julia/v0.5/IJulia/src/kernel.jl:31\n",
      "WARNING: Base.writemime is deprecated.\n",
      "  likely near /usr/people/jingpeng/.julia/v0.5/IJulia/src/kernel.jl:31\n",
      "WARNING: Base.writemime is deprecated.\n",
      "  likely near /usr/people/jingpeng/.julia/v0.5/IJulia/src/kernel.jl:31\n",
      "WARNING: Base.writemime is deprecated.\n",
      "  likely near /usr/people/jingpeng/.julia/v0.5/IJulia/src/kernel.jl:31\n",
      "WARNING: Base.writemime is deprecated.\n",
      "  likely near /usr/people/jingpeng/.julia/v0.5/IJulia/src/kernel.jl:31\n",
      "WARNING: Base.writemime is deprecated.\n",
      "  likely near /usr/people/jingpeng/.julia/v0.5/IJulia/src/kernel.jl:31\n",
      "WARNING: Base.writemime is deprecated.\n",
      "  likely near /usr/people/jingpeng/.julia/v0.5/IJulia/src/kernel.jl:31\n",
      "WARNING: Base.writemime is deprecated.\n",
      "  likely near /usr/people/jingpeng/.julia/v0.5/IJulia/src/kernel.jl:31\n",
      "WARNING: Base.writemime is deprecated.\n",
      "  likely near /usr/people/jingpeng/.julia/v0.5/IJulia/src/kernel.jl:31\n",
      "WARNING: Base.writemime is deprecated.\n",
      "  likely near /usr/people/jingpeng/.julia/v0.5/IJulia/src/kernel.jl:31\n",
      "WARNING: Base.writemime is deprecated.\n",
      "  likely near /usr/people/jingpeng/.julia/v0.5/IJulia/src/kernel.jl:31\n",
      "WARNING: Base.writemime is deprecated.\n",
      "  likely near /usr/people/jingpeng/.julia/v0.5/IJulia/src/kernel.jl:31\n",
      "WARNING: Base.writemime is deprecated.\n",
      "  likely near /usr/people/jingpeng/.julia/v0.5/IJulia/src/kernel.jl:31\n",
      "WARNING: Base.writemime is deprecated.\n",
      "  likely near /usr/people/jingpeng/.julia/v0.5/IJulia/src/kernel.jl:31\n",
      "WARNING: Base.writemime is deprecated.\n",
      "  likely near /usr/people/jingpeng/.julia/v0.5/IJulia/src/kernel.jl:31\n",
      "WARNING: Base.writemime is deprecated.\n",
      "  likely near /usr/people/jingpeng/.julia/v0.5/IJulia/src/kernel.jl:31\n",
      "WARNING: Base.writemime is deprecated.\n",
      "  likely near /usr/people/jingpeng/.julia/v0.5/IJulia/src/kernel.jl:31\n"
     ]
    },
    {
     "ename": "InexactError",
     "evalue": "InexactError()",
     "output_type": "error",
     "traceback": [
      "InexactError()",
      "",
      " in trunc(::Type{Int64}, ::Float64) at ./float.jl:463",
      " in #show#82(::Function, ::Int64, ::Int64, ::Function, ::IOContext{Base64EncodePipe}, ::MIME{Symbol(\"image/png\")}, ::Array{ColorTypes.Gray{Float32},2}) at /usr/people/jingpeng/.julia/v0.5/Images/src/showmime.jl:26",
      " in limitstringmime(::MIME{Symbol(\"image/png\")}, ::Array{ColorTypes.Gray{Float32},2}) at /usr/people/jingpeng/.julia/v0.5/IJulia/src/inline.jl:32",
      " in display_dict(::Array{ColorTypes.Gray{Float32},2}) at /usr/people/jingpeng/.julia/v0.5/IJulia/src/execute_request.jl:33",
      " in display_dict(::Reactive.Signal{Any}) at /usr/people/jingpeng/.julia/v0.5/Interact/src/IJulia/setup.jl:98",
      " in execute_request(::ZMQ.Socket, ::IJulia.Msg) at /usr/people/jingpeng/.julia/v0.5/IJulia/src/execute_request.jl:188",
      " in eventloop(::ZMQ.Socket) at /usr/people/jingpeng/.julia/v0.5/IJulia/src/eventloop.jl:8",
      " in (::IJulia.##13#19)() at ./task.jl:360"
     ]
    }
   ],
   "source": [
    "using Colors\n",
    "using Interact\n",
    "@manipulate for z in 1:size(affx,3)\n",
    "    Colors.Gray.(affx[:,:,z])\n",
    "end"
   ]
  },
  {
   "cell_type": "code",
   "execution_count": 26,
   "metadata": {
    "collapsed": false
   },
   "outputs": [
    {
     "name": "stderr",
     "output_type": "stream",
     "text": [
      "WARNING: using AlignedBigArrays.boundingbox in module Main conflicts with an existing identifier.\n",
      "WARNING: using AlignedBigArrays.AbstractBigArray in module Main conflicts with an existing identifier.\n",
      "\n",
      "signal (15): Terminated\n",
      "while loading /usr/people/jingpeng/.julia/v0.5/IJulia/src/kernel.jl, in expression starting on line 31\n",
      "unknown function (ip: 0x7fbd7c898401)\n",
      "uv_cond_wait at /usr/people/jingpeng/lib/julia/deps/srccache/libuv-8d5131b6c1595920dd30644cd1435b4f344b46c8/src/unix/thread.c:411\n",
      "ti_threadgroup_fork at /usr/people/jingpeng/lib/julia/src/threadgroup.c:152\n",
      "ti_threadfun at /usr/people/jingpeng/lib/julia/src/threading.c:386\n",
      "uv__thread_start at /usr/people/jingpeng/lib/julia/deps/srccache/libuv-8d5131b6c1595920dd30644cd1435b4f344b46c8/src/unix/thread.c:52\n",
      "start_thread at /build/eglibc-oGUzwX/eglibc-2.19/nptl/pthread_create.c:312\n"
     ]
    }
   ],
   "source": [
    "using BigArrays.AlignedBigArrays\n",
    "ba2 = AlignedBigArray(\"/mnt/data01/datasets/zebrafish/4_aligned/\");\n",
    "# ba = H5sBigArray(\"/usr/people/jingpeng/seungmount/research/Jingpeng/17_pinky40/affinitymap/\") ;"
   ]
  },
  {
   "cell_type": "code",
   "execution_count": null,
   "metadata": {
    "collapsed": true
   },
   "outputs": [],
   "source": [
    "img2 = ba2[39489:39489+1024,]"
   ]
  }
 ],
 "metadata": {
  "kernelspec": {
   "display_name": "Julia 0.5.1-pre",
   "language": "julia",
   "name": "julia-0.5"
  },
  "language_info": {
   "file_extension": ".jl",
   "mimetype": "application/julia",
   "name": "julia",
   "version": "0.5.1"
  }
 },
 "nbformat": 4,
 "nbformat_minor": 0
}
