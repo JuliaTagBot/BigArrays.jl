{
 "cells": [
  {
   "cell_type": "code",
   "execution_count": 1,
   "metadata": {
    "collapsed": false
   },
   "outputs": [
    {
     "data": {
      "text/plain": [
       "fileName2origin (generic function with 1 method)"
      ]
     },
     "execution_count": 1,
     "metadata": {},
     "output_type": "execute_result"
    }
   ],
   "source": [
    "function fileName2origin( fileName::AbstractString )\n",
    "    fileName = replace(fileName, \"-\",  \":\")\n",
    "    fileName = replace(fileName, \"_:\", \"_-\")\n",
    "    secs = split(fileName, \"_\")\n",
    "    origin = zeros(Int, length(secs)-2)\n",
    "    for i in 1:length(origin)\n",
    "        origin[i] = parse( split(secs[i+1],\":\")[1] )\n",
    "    end\n",
    "    return origin\n",
    "end"
   ]
  },
  {
   "cell_type": "code",
   "execution_count": 2,
   "metadata": {
    "collapsed": false
   },
   "outputs": [
    {
     "data": {
      "text/plain": [
       "3-element Array{Int64,1}:\n",
       "  -1023\n",
       " -48127\n",
       " -65023"
      ]
     },
     "execution_count": 2,
     "metadata": {},
     "output_type": "execute_result"
    }
   ],
   "source": [
    "fileName = \"block_-1023-0_-48127--47104_-65023--64896_1-3.h5\"\n",
    "fileName2origin(fileName)"
   ]
  },
  {
   "cell_type": "code",
   "execution_count": 6,
   "metadata": {
    "collapsed": false
   },
   "outputs": [
    {
     "data": {
      "text/plain": [
       "6"
      ]
     },
     "execution_count": 6,
     "metadata": {},
     "output_type": "execute_result"
    }
   ],
   "source": [
    "using HDF5\n",
    "using Blosc\n",
    "Blosc.set_num_threads(1)\n"
   ]
  },
  {
   "cell_type": "code",
   "execution_count": 15,
   "metadata": {
    "collapsed": false
   },
   "outputs": [
    {
     "name": "stdout",
     "output_type": "stream",
     "text": [
      "file = \"affinitymap/chunk_34817-36864_2049-4096_769-1024_1-3.h5\"\n",
      "origin = [34817,2049,769,1]\n",
      "size(newAff) = (1024,1024,128,3)\n",
      "size(newAff) = (1024,1024,128,3)\n",
      "size(newAff) = (1024,1024,128,3)\n",
      "size(newAff) = (1024,1024,128,3)\n",
      "size(newAff) = (1024,1024,128,3)\n",
      "size(newAff) = (1024,1024,128,3)\n",
      "size(newAff) = (1024,1024,128,3)\n",
      "size(newAff) = (1024,1024,128,3)\n",
      "file = \"affinitymap/chunk_34817-36864_22529-24576_257-512_1-3.h5\"\n",
      "origin = [34817,22529,257,1]\n",
      "size(newAff) = (1024,1024,128,3)\n",
      "size(newAff) = (1024,1024,128,3)\n",
      "size(newAff) = (1024,1024,128,3)\n",
      "size(newAff) = (1024,1024,128,3)\n",
      "size(newAff) = (1024,1024,128,3)\n",
      "size(newAff) = (1024,1024,128,3)\n",
      "size(newAff) = (1024,1024,128,3)\n",
      "size(newAff) = (1024,1024,128,3)\n",
      "file = \"affinitymap/chunk_34817-36864_22529-24576_513-768_1-3.h5\"\n",
      "origin = [34817,22529,513,1]\n",
      "size(newAff) = (1024,1024,128,3)\n",
      "size(newAff) = (1024,1024,128,3)\n",
      "size(newAff) = (1024,1024,128,3)\n",
      "size(newAff) = (1024,1024,128,3)\n"
     ]
    },
    {
     "ename": "LoadError",
     "evalue": "LoadError: InterruptException:\nwhile loading In[15], in expression starting on line 2",
     "output_type": "error",
     "traceback": [
      "LoadError: InterruptException:\nwhile loading In[15], in expression starting on line 2",
      "",
      " in macro expansion; at ./show.jl:218 [inlined]",
      " in macro expansion; at ./In[15]:28 [inlined]",
      " in anonymous at ./<missing>:?"
     ]
    }
   ],
   "source": [
    "H5_DATASET_NAME = \"img\"\n",
    "for file in readdir(\"affinitymap/\")\n",
    "    if  contains(file,\"chunk_14337\") || contains(file, \"chunk_12289\") || \n",
    "        contains(file,\"chunk_13313\") || contains(file, \"chunk_15361\") ||\n",
    "        contains(file,\"chunk_10241\") || contains(file, \"chunk_16385\")\n",
    "        continue\n",
    "    end\n",
    "    file = joinpath(\"affinitymap/\", file)\n",
    "    if ishdf5(file)\n",
    "#         @show file\n",
    "        f = h5open(file)\n",
    "#         @show size(f[H5_DATASET_NAME])\n",
    "        if size(f[H5_DATASET_NAME])==(2048,2048,256,3)\n",
    "            @show file\n",
    "            origin = [fileName2origin(file)..., 1]\n",
    "            @show origin\n",
    "            for gridz in 1:2\n",
    "                for gridy in 1:2\n",
    "                    for gridx in 1:2\n",
    "                        newOrigin = origin .+ [gridx-1, gridy-1,gridz-1,0].* [1024,1024,128,0]\n",
    "                        newFileName = \"1024/block_$(newOrigin[1])-$(newOrigin[1]+1023)_$(newOrigin[2])-$(newOrigin[2]+1023)_$(newOrigin[3])-$(newOrigin[3]+127)_1-3.h5\"\n",
    "                        if isfile(newFileName)\n",
    "                            continue\n",
    "                        end\n",
    "                        newAff = f[H5_DATASET_NAME][newOrigin[1]-origin[1]+1 : newOrigin[1]-origin[1]+1024,\n",
    "                                                    newOrigin[2]-origin[2]+1 : newOrigin[2]-origin[2]+1024,\n",
    "                                                    newOrigin[3]-origin[3]+1 : newOrigin[3]-origin[3]+128, 1:3]\n",
    "                        @show size(newAff)\n",
    "#                         h5write(newFileName, H5_DATASET_NAME, newAff)\n",
    "                        newf = h5open(newFileName, \"w\")\n",
    "                        newf[\"origin\"] = newOrigin\n",
    "                        dataSet = d_create(newf, H5_DATASET_NAME, datatype(eltype(newAff)),\n",
    "                                            dataspace(1024,1024,128,3),\n",
    "                                            \"chunk\", (256,256,32,3),\n",
    "                                            \"shuffle\", (), \"deflate\", 3)\n",
    "                        dataSet[:,:,:,:] = newAff\n",
    "                        close(newf)\n",
    "                        \n",
    "                    end\n",
    "                end\n",
    "            end\n",
    "        end\n",
    "        close(f)\n",
    "        rm(file)\n",
    "    end\n",
    "end"
   ]
  },
  {
   "cell_type": "code",
   "execution_count": null,
   "metadata": {
    "collapsed": true
   },
   "outputs": [],
   "source": []
  }
 ],
 "metadata": {
  "kernelspec": {
   "display_name": "Julia 0.5.0",
   "language": "julia",
   "name": "julia-0.5"
  },
  "language_info": {
   "file_extension": ".jl",
   "mimetype": "application/julia",
   "name": "julia",
   "version": "0.5.0"
  }
 },
 "nbformat": 4,
 "nbformat_minor": 0
}
